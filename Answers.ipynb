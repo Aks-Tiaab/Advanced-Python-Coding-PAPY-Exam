{
 "cells": [
  {
   "cell_type": "markdown",
   "metadata": {},
   "source": [
    "# Partie 1 : Connaissances générales\n",
    "## 1.1 Connaissance de Python\n",
    "\n",
    "##### 1)1/\n",
    "variables muables : peut changer d'état, de valeur, de contenu\n",
    "variables immuables : ne peuvent pas\n",
    "\n",
    "##### 1)2/\n",
    "variables muables : list, dict, set, byte array\n",
    "variables immuables : int, float, complex, string, tuple, frozen set [note: immutable version of set], bytes\n",
    "\n",
    "\n",
    "##### 2)1/\n"
   ]
  },
  {
   "cell_type": "code",
   "execution_count": 5,
   "metadata": {},
   "outputs": [
    {
     "name": "stdout",
     "output_type": "stream",
     "text": [
      "(1, 12, 3) <class 'tuple'>\n",
      "[1, 22, 3] <class 'list'>\n"
     ]
    }
   ],
   "source": [
    "v = (1,2,3)\n",
    "w = list(v)\n",
    "w[1] = 12 \n",
    "v = tuple(w)\n",
    "print(v,type(v)) \n",
    "\n",
    "v = [1,2,3]\n",
    "v[1] = 22\n",
    "print(v,type(v))"
   ]
  },
  {
   "cell_type": "markdown",
   "metadata": {},
   "source": [
    "##### 2)1/"
   ]
  },
  {
   "cell_type": "code",
   "execution_count": 6,
   "metadata": {},
   "outputs": [
    {
     "name": "stdout",
     "output_type": "stream",
     "text": [
      "(1, 2, 3, 'new_val') <class 'tuple'>\n",
      "[1, 2, 3, 'new_val'] <class 'list'>\n"
     ]
    }
   ],
   "source": [
    "v = (1,2,3)\n",
    "w = list(v)\n",
    "w.append(\"new_val\")\n",
    "v = tuple(w)\n",
    "print(v,type(v)) \n",
    "\n",
    "v = [1,2,3]\n",
    "v.append(\"new_val\")\n",
    "print(v,type(v))"
   ]
  },
  {
   "cell_type": "markdown",
   "metadata": {},
   "source": [
    "##### 3)"
   ]
  },
  {
   "cell_type": "code",
   "execution_count": 24,
   "metadata": {},
   "outputs": [
    {
     "name": "stdout",
     "output_type": "stream",
     "text": [
      "{1: 'a', 2: 'b', 3: 'c'}\n",
      "c\n",
      "b\n"
     ]
    }
   ],
   "source": [
    "dictionnary = {1:'a',2:'b',3:'c'} #define dictionnary\n",
    "print(dictionnary) #prints entire dict\n",
    "print(dictionnary[3]) #prints value with key=3 ie. 'c'\n",
    "print(dictionnary.get(2)) #prints value with key=2 ie. 'b'\n"
   ]
  },
  {
   "cell_type": "markdown",
   "metadata": {},
   "source": [
    "##### 4)\n",
    "Docstring : Une docstring est une chaîne de caractères avec trois doubles quotes \"\"\" situées au début d'un module, d'une fonction, d'une classe (on verra cela plus tard) ou d'une méthode (on verra aussi cela plus tard). Elle explique ce que fait le code et donne éventuellement ce que retourne une fonction ou une méthode. Nous utiliserons principalement les docstrings pour les fonctions."
   ]
  },
  {
   "cell_type": "markdown",
   "metadata": {},
   "source": [
    "##### 5)"
   ]
  },
  {
   "cell_type": "code",
   "execution_count": 25,
   "metadata": {},
   "outputs": [
    {
     "name": "stdout",
     "output_type": "stream",
     "text": [
      "3\n"
     ]
    }
   ],
   "source": [
    "a=3\n",
    "b=2\n",
    "c=a\n",
    "a=4\n",
    "print(c)"
   ]
  },
  {
   "cell_type": "markdown",
   "metadata": {},
   "source": [
    "La variable c copie la valeur de a mais pas son pointeur. Changer la valeur de a par la suite ne changera pas c puisque la valeur est de type interger(contrairement au cas d'une liste qui changerait)"
   ]
  },
  {
   "cell_type": "markdown",
   "metadata": {},
   "source": [
    "##### 6)"
   ]
  },
  {
   "cell_type": "code",
   "execution_count": 26,
   "metadata": {},
   "outputs": [
    {
     "name": "stdout",
     "output_type": "stream",
     "text": [
      "[1, 2, 3]\n",
      "[1, 2, 3] a\n"
     ]
    }
   ],
   "source": [
    "L = [1,2,3]\n",
    "L2=L\n",
    "print(L,L2)\n",
    "\n",
    "L2 = 'a'\n",
    "print(L,L2)"
   ]
  },
  {
   "cell_type": "markdown",
   "metadata": {},
   "source": [
    "##### 6)1/\n",
    "L a gardé sa valeur initiale"
   ]
  },
  {
   "cell_type": "code",
   "execution_count": 28,
   "metadata": {},
   "outputs": [
    {
     "name": "stdout",
     "output_type": "stream",
     "text": [
      "[1, 'a', 3] [1, 'a', 3]\n"
     ]
    }
   ],
   "source": [
    "L = [1,2,3]\n",
    "L2 = L\n",
    "L2[1] = \"a\"\n",
    "print(L,L2)"
   ]
  },
  {
   "cell_type": "markdown",
   "metadata": {},
   "source": [
    "##### 6)2/\n",
    "La valeur a changé dans les 2 listes : lors de l'opération ligne 3, l'utilisateur change une valeur de l'objet liste L2. Hors, L et L2 ont le même pointeur donc la liste L est aussi changée\n",
    "\n",
    "##### 7)\n",
    "module : tout fichier constitué de code Python (c'est-à-dire tout fichier avec l'extension . py ) importé dans un autre fichier ou script\n",
    "\n",
    "##### 8)\n",
    "First method: import numpy as a whole\n",
    "Second method: import only the needed function"
   ]
  },
  {
   "cell_type": "code",
   "execution_count": 31,
   "metadata": {},
   "outputs": [
    {
     "name": "stdout",
     "output_type": "stream",
     "text": [
      "[ 1.  2.  3.  4.  5.  6.  7.  8.  9. 10.]\n",
      "[ 1.  2.  3.  4.  5.  6.  7.  8.  9. 10.]\n"
     ]
    }
   ],
   "source": [
    "import numpy as np\n",
    "print(np.linspace(1,10,10))\n",
    "\n",
    "from numpy import linspace\n",
    "print(linspace(1,10,10))"
   ]
  },
  {
   "cell_type": "markdown",
   "metadata": {},
   "source": [
    "## 1.2 Etre un bon développeur\n",
    "1) Why use Python environments (like anaconda) ?\n",
    "\n",
    "2) Enables to save time and use more optimized functions instead of having to develop their own functions\n",
    "\n",
    "3) ????\n",
    "\n",
    "4) Enables to take into account different errors and cases of use\n",
    "\n",
    "5) __G = 9.81 "
   ]
  },
  {
   "cell_type": "markdown",
   "metadata": {},
   "source": [
    "## 1.3 Commentaire de code\n",
    "1.1) entry = -1\n",
    "\n",
    "1.2) Python will return an error and break the for() loop. The function log() is not defined for negative entries.\n",
    "\n",
    "1.3) Multiple choices, here are a few examples :\n",
    "- Put an absolute sign around the value entry\n",
    "- Check if entry>0 : res+=log(entry)\n",
    "\n",
    "2) See examples above or write documentation that tells the user that negatives values will return an error\n",
    "\n",
    "3) ???\n",
    "\n",
    "4) ???"
   ]
  }
 ],
 "metadata": {
  "kernelspec": {
   "display_name": "Python 3.10.6 64-bit",
   "language": "python",
   "name": "python3"
  },
  "language_info": {
   "codemirror_mode": {
    "name": "ipython",
    "version": 3
   },
   "file_extension": ".py",
   "mimetype": "text/x-python",
   "name": "python",
   "nbconvert_exporter": "python",
   "pygments_lexer": "ipython3",
   "version": "3.10.6"
  },
  "orig_nbformat": 4,
  "vscode": {
   "interpreter": {
    "hash": "916dbcbb3f70747c44a77c7bcd40155683ae19c65e1c03b4aa3499c5328201f1"
   }
  }
 },
 "nbformat": 4,
 "nbformat_minor": 2
}
